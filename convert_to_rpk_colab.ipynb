{
  "cells": [
    {
      "cell_type": "markdown",
      "metadata": {},
      "source": [
        "# Convert YOLOv8 ExoGlove Model to IMX500 .rpk Format\n",
        "\n",
        "This notebook helps convert your trained YOLOv8 model to TensorFlow Lite format for IMX500 deployment.\n"
      ]
    }
  ],
  "metadata": {
    "language_info": {
      "name": "python"
    }
  },
  "nbformat": 4,
  "nbformat_minor": 2
}
